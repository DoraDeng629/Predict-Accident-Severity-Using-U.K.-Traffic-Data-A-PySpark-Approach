{
 "cells": [
  {
   "cell_type": "code",
   "execution_count": 1,
   "metadata": {},
   "outputs": [],
   "source": [
    "import pandas as pd"
   ]
  },
  {
   "cell_type": "markdown",
   "metadata": {},
   "source": [
    "# Concat Data"
   ]
  },
  {
   "cell_type": "code",
   "execution_count": 2,
   "metadata": {},
   "outputs": [
    {
     "data": {
      "text/plain": [
       "(570011, 33)"
      ]
     },
     "execution_count": 2,
     "metadata": {},
     "output_type": "execute_result"
    }
   ],
   "source": [
    "df1 = pd.read_csv(r'C:\\Users\\11654\\Desktop\\Cedric\\2ndSem\\Big_Data\\Project\\accidents_2005_to_2007.csv',low_memory=False)\n",
    "df1.shape"
   ]
  },
  {
   "cell_type": "code",
   "execution_count": 3,
   "metadata": {},
   "outputs": [
    {
     "data": {
      "text/plain": [
       "(469442, 33)"
      ]
     },
     "execution_count": 3,
     "metadata": {},
     "output_type": "execute_result"
    }
   ],
   "source": [
    "df2 = pd.read_csv(r'C:\\Users\\11654\\Desktop\\Cedric\\2ndSem\\Big_Data\\Project\\accidents_2009_to_2011.csv',low_memory=False)\n",
    "df2.shape"
   ]
  },
  {
   "cell_type": "code",
   "execution_count": 4,
   "metadata": {
    "scrolled": true
   },
   "outputs": [
    {
     "data": {
      "text/plain": [
       "(464697, 33)"
      ]
     },
     "execution_count": 4,
     "metadata": {},
     "output_type": "execute_result"
    }
   ],
   "source": [
    "df3 = pd.read_csv(r'C:\\Users\\11654\\Desktop\\Cedric\\2ndSem\\Big_Data\\Project\\accidents_2012_to_2014.csv',low_memory=False)\n",
    "df3.shape"
   ]
  },
  {
   "cell_type": "code",
   "execution_count": 5,
   "metadata": {},
   "outputs": [
    {
     "data": {
      "text/plain": [
       "(1504150, 33)"
      ]
     },
     "execution_count": 5,
     "metadata": {},
     "output_type": "execute_result"
    }
   ],
   "source": [
    "# combine 3 datasets\n",
    "df = pd.concat([df1,df2,df3])\n",
    "df.shape"
   ]
  },
  {
   "cell_type": "code",
   "execution_count": 6,
   "metadata": {},
   "outputs": [
    {
     "data": {
      "text/plain": [
       "count     1504033\n",
       "unique       1439\n",
       "top         17:00\n",
       "freq        14765\n",
       "Name: Time, dtype: object"
      ]
     },
     "execution_count": 6,
     "metadata": {},
     "output_type": "execute_result"
    }
   ],
   "source": [
    "df['Time'].describe()"
   ]
  },
  {
   "cell_type": "code",
   "execution_count": 7,
   "metadata": {},
   "outputs": [
    {
     "data": {
      "text/plain": [
       "(1504150, 25)"
      ]
     },
     "execution_count": 7,
     "metadata": {},
     "output_type": "execute_result"
    }
   ],
   "source": [
    "# drop Accident_Index, Date, Local_Authority_(Highway),Junction_Detail,\n",
    "# LSOA_of_Accident_Location, Year, Location_Easting_OSGR, Location_Northing_OSGR\n",
    "df = df.drop(columns=['Accident_Index', 'Date', 'Local_Authority_(Highway)','Junction_Detail',\n",
    "                                 'LSOA_of_Accident_Location', 'Year', 'Location_Easting_OSGR', 'Location_Northing_OSGR'])\n",
    "df.shape"
   ]
  },
  {
   "cell_type": "code",
   "execution_count": null,
   "metadata": {},
   "outputs": [],
   "source": []
  },
  {
   "cell_type": "markdown",
   "metadata": {},
   "source": [
    "# Deal with null values (filled with most-frequent or mean value)"
   ]
  },
  {
   "cell_type": "code",
   "execution_count": 8,
   "metadata": {
    "scrolled": true
   },
   "outputs": [
    {
     "data": {
      "text/plain": [
       "Longitude                                         101\n",
       "Latitude                                          101\n",
       "Police_Force                                        0\n",
       "Accident_Severity                                   0\n",
       "Number_of_Vehicles                                  0\n",
       "Number_of_Casualties                                0\n",
       "Day_of_Week                                         0\n",
       "Time                                              117\n",
       "Local_Authority_(District)                          0\n",
       "1st_Road_Class                                      0\n",
       "1st_Road_Number                                     0\n",
       "Road_Type                                           0\n",
       "Speed_limit                                         0\n",
       "Junction_Control                               602835\n",
       "2nd_Road_Class                                      0\n",
       "2nd_Road_Number                                     0\n",
       "Pedestrian_Crossing-Human_Control                  17\n",
       "Pedestrian_Crossing-Physical_Facilities            34\n",
       "Light_Conditions                                    0\n",
       "Weather_Conditions                                126\n",
       "Road_Surface_Conditions                          1958\n",
       "Special_Conditions_at_Site                         15\n",
       "Carriageway_Hazards                                29\n",
       "Urban_or_Rural_Area                                 0\n",
       "Did_Police_Officer_Attend_Scene_of_Accident      2922\n",
       "dtype: int64"
      ]
     },
     "execution_count": 8,
     "metadata": {},
     "output_type": "execute_result"
    }
   ],
   "source": [
    "# check number of null values\n",
    "df.isnull().sum(axis = 0)"
   ]
  },
  {
   "cell_type": "code",
   "execution_count": 9,
   "metadata": {
    "scrolled": true
   },
   "outputs": [],
   "source": [
    "# Filled with 'Giveway or uncontrolled' (highest frequency) for Junction control\n",
    "df['Junction_Control'] = df['Junction_Control'].fillna(df['Junction_Control'].describe()[2])"
   ]
  },
  {
   "cell_type": "code",
   "execution_count": 10,
   "metadata": {},
   "outputs": [],
   "source": [
    "# Filled with '-1.4366249705129326' (mean value) for Longtitude\n",
    "df['Longitude'] = df['Longitude'].fillna(df['Longitude'].describe()[1])"
   ]
  },
  {
   "cell_type": "code",
   "execution_count": 11,
   "metadata": {},
   "outputs": [],
   "source": [
    "# Filled with '52.58939945988537' (mean value) for Latitude\n",
    "df['Latitude'] = df['Latitude'].fillna(df['Latitude'].describe()[1])"
   ]
  },
  {
   "cell_type": "code",
   "execution_count": 12,
   "metadata": {},
   "outputs": [],
   "source": [
    "# Filled with 'None within 50 metres' (highest frequency) for Pedestrian_Crossing-Human_Control\n",
    "df['Pedestrian_Crossing-Human_Control'] = df['Pedestrian_Crossing-Human_Control'].fillna(df['Pedestrian_Crossing-Human_Control'].describe()[2])"
   ]
  },
  {
   "cell_type": "code",
   "execution_count": 13,
   "metadata": {},
   "outputs": [],
   "source": [
    "# Filled with 'No physical crossing within 50 meters' (highest frequency) for Pedestrian_Crossing-Physical_Facilities\n",
    "df['Pedestrian_Crossing-Physical_Facilities'] = df['Pedestrian_Crossing-Physical_Facilities'].fillna(df['Pedestrian_Crossing-Physical_Facilities'].describe()[2])"
   ]
  },
  {
   "cell_type": "code",
   "execution_count": 14,
   "metadata": {},
   "outputs": [],
   "source": [
    "# filled with 'Fine without high winds'\n",
    "df['Weather_Conditions'] = df['Weather_Conditions'].fillna(df['Weather_Conditions'].describe()[2])"
   ]
  },
  {
   "cell_type": "code",
   "execution_count": 15,
   "metadata": {},
   "outputs": [],
   "source": [
    "# filled with 'dry'\n",
    "df['Road_Surface_Conditions'] = df['Road_Surface_Conditions'].fillna(df['Road_Surface_Conditions'].describe()[2])"
   ]
  },
  {
   "cell_type": "code",
   "execution_count": 16,
   "metadata": {},
   "outputs": [],
   "source": [
    "# filled with 'None'\n",
    "df['Special_Conditions_at_Site'] = df['Special_Conditions_at_Site'].fillna(df['Special_Conditions_at_Site'].describe()[2])"
   ]
  },
  {
   "cell_type": "code",
   "execution_count": 17,
   "metadata": {},
   "outputs": [],
   "source": [
    "# filled with 'None'\n",
    "df['Carriageway_Hazards'] = df['Carriageway_Hazards'].fillna(df['Carriageway_Hazards'].describe()[2])"
   ]
  },
  {
   "cell_type": "code",
   "execution_count": 18,
   "metadata": {},
   "outputs": [],
   "source": [
    "# filled with 'None'\n",
    "df['Did_Police_Officer_Attend_Scene_of_Accident'] = df['Did_Police_Officer_Attend_Scene_of_Accident'].fillna(df['Did_Police_Officer_Attend_Scene_of_Accident'].describe()[2])"
   ]
  },
  {
   "cell_type": "code",
   "execution_count": 19,
   "metadata": {},
   "outputs": [],
   "source": [
    "# Filled with 17:00\n",
    "df['Time'] = df['Time'].fillna(df['Time'].describe()[2])"
   ]
  },
  {
   "cell_type": "code",
   "execution_count": 20,
   "metadata": {},
   "outputs": [
    {
     "data": {
      "text/plain": [
       "Longitude                                      0\n",
       "Latitude                                       0\n",
       "Police_Force                                   0\n",
       "Accident_Severity                              0\n",
       "Number_of_Vehicles                             0\n",
       "Number_of_Casualties                           0\n",
       "Day_of_Week                                    0\n",
       "Time                                           0\n",
       "Local_Authority_(District)                     0\n",
       "1st_Road_Class                                 0\n",
       "1st_Road_Number                                0\n",
       "Road_Type                                      0\n",
       "Speed_limit                                    0\n",
       "Junction_Control                               0\n",
       "2nd_Road_Class                                 0\n",
       "2nd_Road_Number                                0\n",
       "Pedestrian_Crossing-Human_Control              0\n",
       "Pedestrian_Crossing-Physical_Facilities        0\n",
       "Light_Conditions                               0\n",
       "Weather_Conditions                             0\n",
       "Road_Surface_Conditions                        0\n",
       "Special_Conditions_at_Site                     0\n",
       "Carriageway_Hazards                            0\n",
       "Urban_or_Rural_Area                            0\n",
       "Did_Police_Officer_Attend_Scene_of_Accident    0\n",
       "dtype: int64"
      ]
     },
     "execution_count": 20,
     "metadata": {},
     "output_type": "execute_result"
    }
   ],
   "source": [
    "# re-check number of null values\n",
    "df.isnull().sum(axis = 0)"
   ]
  },
  {
   "cell_type": "markdown",
   "metadata": {},
   "source": [
    "# Change data format"
   ]
  },
  {
   "cell_type": "code",
   "execution_count": 21,
   "metadata": {},
   "outputs": [],
   "source": [
    "# change column \"Did_Police_Officer_Attend_Scene_of_Accident\" to dummy 1/0\n",
    "Police_Attend_Scene_of_Accident = []\n",
    "for i in df['Did_Police_Officer_Attend_Scene_of_Accident']:\n",
    "    if i == 'Yes':\n",
    "        Police_Attend_Scene_of_Accident.append(1)\n",
    "    else:\n",
    "        Police_Attend_Scene_of_Accident.append(0)\n",
    "# create new column\n",
    "df['Police_Attend_Scene_of_Accident'] = Police_Attend_Scene_of_Accident\n",
    "# drop original column\n",
    "df = df.drop(columns=['Did_Police_Officer_Attend_Scene_of_Accident'])"
   ]
  },
  {
   "cell_type": "code",
   "execution_count": 23,
   "metadata": {},
   "outputs": [],
   "source": [
    "# change time to day(1) or night (0) dummy\n",
    "hour = []\n",
    "for i in df['Time']:\n",
    "    hour.append(i.split(':')[0])\n",
    "for i in hour:\n",
    "    i = int(i)\n",
    "\n",
    "time = []\n",
    "for i in hour:\n",
    "    if (int(i)>5) and (int(i)<18):\n",
    "        time.append(1)\n",
    "    else:\n",
    "        time.append(0)\n",
    "# create new column\n",
    "df['Time'] = time"
   ]
  },
  {
   "cell_type": "markdown",
   "metadata": {},
   "source": [
    "# Deal with data imbalance (?)"
   ]
  },
  {
   "cell_type": "code",
   "execution_count": 24,
   "metadata": {},
   "outputs": [
    {
     "data": {
      "text/plain": [
       "<matplotlib.axes._subplots.AxesSubplot at 0x25e2d0d5278>"
      ]
     },
     "execution_count": 24,
     "metadata": {},
     "output_type": "execute_result"
    },
    {
     "data": {
      "image/png": "[encoded data removed]",
      "text/plain": [
       "<Figure size 864x720 with 1 Axes>"
      ]
     },
     "metadata": {
      "needs_background": "light"
     },
     "output_type": "display_data"
    }
   ],
   "source": [
    "import matplotlib.pyplot as plt\n",
    "import seaborn as sns\n",
    "%matplotlib inline\n",
    "plt.figure(figsize=(12,10))\n",
    "sns.countplot(x='Accident_Severity', data=df, order=df['Accident_Severity'].value_counts().index)\n",
    "# extremely imbalanced data"
   ]
  },
  {
   "cell_type": "code",
   "execution_count": 25,
   "metadata": {},
   "outputs": [
    {
     "name": "stdout",
     "output_type": "stream",
     "text": [
      "Accident_Severity\n",
      "1      19441\n",
      "2     204504\n",
      "3    1280205\n",
      "Name: Labels, dtype: int64\n"
     ]
    }
   ],
   "source": [
    "# check specific number\n",
    "df_summary = df.groupby('Accident_Severity').count()\n",
    "df_summary['Labels'] = df_summary['Longitude']\n",
    "print(df_summary['Labels'])"
   ]
  },
  {
   "cell_type": "code",
   "execution_count": 26,
   "metadata": {},
   "outputs": [
    {
     "data": {
      "text/plain": [
       "1504150"
      ]
     },
     "execution_count": 26,
     "metadata": {},
     "output_type": "execute_result"
    }
   ],
   "source": [
    "# get sum of count as base number\n",
    "base = 0\n",
    "for i in df_summary['Labels']:\n",
    "    base = base + i\n",
    "base"
   ]
  },
  {
   "cell_type": "code",
   "execution_count": 27,
   "metadata": {},
   "outputs": [],
   "source": [
    "# calculate ratio\n",
    "ratio_1 = (df_summary['Labels'][1]/base)\n",
    "ratio_2 = (df_summary['Labels'][2]/base)\n",
    "ratio_3 = (df_summary['Labels'][3]/base)"
   ]
  },
  {
   "cell_type": "code",
   "execution_count": 28,
   "metadata": {},
   "outputs": [
    {
     "data": {
      "text/html": [
       "<div>\n",
       "<style scoped>\n",
       "    .dataframe tbody tr th:only-of-type {\n",
       "        vertical-align: middle;\n",
       "    }\n",
       "\n",
       "    .dataframe tbody tr th {\n",
       "        vertical-align: top;\n",
       "    }\n",
       "\n",
       "    .dataframe thead th {\n",
       "        text-align: right;\n",
       "    }\n",
       "</style>\n",
       "<table border=\"1\" class=\"dataframe\">\n",
       "  <thead>\n",
       "    <tr style=\"text-align: right;\">\n",
       "      <th></th>\n",
       "      <th>Longitude</th>\n",
       "      <th>Latitude</th>\n",
       "      <th>Police_Force</th>\n",
       "      <th>Accident_Severity</th>\n",
       "      <th>Number_of_Vehicles</th>\n",
       "      <th>Number_of_Casualties</th>\n",
       "      <th>Day_of_Week</th>\n",
       "      <th>Time</th>\n",
       "      <th>Local_Authority_(District)</th>\n",
       "      <th>1st_Road_Class</th>\n",
       "      <th>...</th>\n",
       "      <th>Pedestrian_Crossing-Human_Control</th>\n",
       "      <th>Pedestrian_Crossing-Physical_Facilities</th>\n",
       "      <th>Light_Conditions</th>\n",
       "      <th>Weather_Conditions</th>\n",
       "      <th>Road_Surface_Conditions</th>\n",
       "      <th>Special_Conditions_at_Site</th>\n",
       "      <th>Carriageway_Hazards</th>\n",
       "      <th>Urban_or_Rural_Area</th>\n",
       "      <th>Police_Attend_Scene_of_Accident</th>\n",
       "      <th>weight</th>\n",
       "    </tr>\n",
       "  </thead>\n",
       "  <tbody>\n",
       "    <tr>\n",
       "      <th>0</th>\n",
       "      <td>-0.191170</td>\n",
       "      <td>51.489096</td>\n",
       "      <td>1</td>\n",
       "      <td>2</td>\n",
       "      <td>1</td>\n",
       "      <td>1</td>\n",
       "      <td>3</td>\n",
       "      <td>1</td>\n",
       "      <td>12</td>\n",
       "      <td>3</td>\n",
       "      <td>...</td>\n",
       "      <td>None within 50 metres</td>\n",
       "      <td>Zebra crossing</td>\n",
       "      <td>Daylight: Street light present</td>\n",
       "      <td>Raining without high winds</td>\n",
       "      <td>Wet/Damp</td>\n",
       "      <td>None</td>\n",
       "      <td>None</td>\n",
       "      <td>1</td>\n",
       "      <td>1</td>\n",
       "      <td>0.135960</td>\n",
       "    </tr>\n",
       "    <tr>\n",
       "      <th>1</th>\n",
       "      <td>-0.211708</td>\n",
       "      <td>51.520075</td>\n",
       "      <td>1</td>\n",
       "      <td>3</td>\n",
       "      <td>1</td>\n",
       "      <td>1</td>\n",
       "      <td>4</td>\n",
       "      <td>1</td>\n",
       "      <td>12</td>\n",
       "      <td>4</td>\n",
       "      <td>...</td>\n",
       "      <td>None within 50 metres</td>\n",
       "      <td>Pedestrian phase at traffic signal junction</td>\n",
       "      <td>Darkness: Street lights present and lit</td>\n",
       "      <td>Fine without high winds</td>\n",
       "      <td>Dry</td>\n",
       "      <td>None</td>\n",
       "      <td>None</td>\n",
       "      <td>1</td>\n",
       "      <td>1</td>\n",
       "      <td>0.012925</td>\n",
       "    </tr>\n",
       "    <tr>\n",
       "      <th>2</th>\n",
       "      <td>-0.206458</td>\n",
       "      <td>51.525301</td>\n",
       "      <td>1</td>\n",
       "      <td>3</td>\n",
       "      <td>2</td>\n",
       "      <td>1</td>\n",
       "      <td>5</td>\n",
       "      <td>0</td>\n",
       "      <td>12</td>\n",
       "      <td>5</td>\n",
       "      <td>...</td>\n",
       "      <td>None within 50 metres</td>\n",
       "      <td>No physical crossing within 50 meters</td>\n",
       "      <td>Darkness: Street lights present and lit</td>\n",
       "      <td>Fine without high winds</td>\n",
       "      <td>Dry</td>\n",
       "      <td>None</td>\n",
       "      <td>None</td>\n",
       "      <td>1</td>\n",
       "      <td>1</td>\n",
       "      <td>0.012925</td>\n",
       "    </tr>\n",
       "    <tr>\n",
       "      <th>3</th>\n",
       "      <td>-0.173862</td>\n",
       "      <td>51.482442</td>\n",
       "      <td>1</td>\n",
       "      <td>3</td>\n",
       "      <td>1</td>\n",
       "      <td>1</td>\n",
       "      <td>6</td>\n",
       "      <td>1</td>\n",
       "      <td>12</td>\n",
       "      <td>3</td>\n",
       "      <td>...</td>\n",
       "      <td>None within 50 metres</td>\n",
       "      <td>No physical crossing within 50 meters</td>\n",
       "      <td>Daylight: Street light present</td>\n",
       "      <td>Fine without high winds</td>\n",
       "      <td>Dry</td>\n",
       "      <td>None</td>\n",
       "      <td>None</td>\n",
       "      <td>1</td>\n",
       "      <td>1</td>\n",
       "      <td>0.012925</td>\n",
       "    </tr>\n",
       "    <tr>\n",
       "      <th>4</th>\n",
       "      <td>-0.156618</td>\n",
       "      <td>51.495752</td>\n",
       "      <td>1</td>\n",
       "      <td>3</td>\n",
       "      <td>1</td>\n",
       "      <td>1</td>\n",
       "      <td>2</td>\n",
       "      <td>0</td>\n",
       "      <td>12</td>\n",
       "      <td>6</td>\n",
       "      <td>...</td>\n",
       "      <td>None within 50 metres</td>\n",
       "      <td>No physical crossing within 50 meters</td>\n",
       "      <td>Darkness: Street lighting unknown</td>\n",
       "      <td>Fine without high winds</td>\n",
       "      <td>Wet/Damp</td>\n",
       "      <td>None</td>\n",
       "      <td>None</td>\n",
       "      <td>1</td>\n",
       "      <td>1</td>\n",
       "      <td>0.012925</td>\n",
       "    </tr>\n",
       "  </tbody>\n",
       "</table>\n",
       "<p>5 rows × 26 columns</p>\n",
       "</div>"
      ],
      "text/plain": [
       "   Longitude   Latitude  Police_Force  Accident_Severity  Number_of_Vehicles  \\\n",
       "0  -0.191170  51.489096             1                  2                   1   \n",
       "1  -0.211708  51.520075             1                  3                   1   \n",
       "2  -0.206458  51.525301             1                  3                   2   \n",
       "3  -0.173862  51.482442             1                  3                   1   \n",
       "4  -0.156618  51.495752             1                  3                   1   \n",
       "\n",
       "   Number_of_Casualties  Day_of_Week  Time  Local_Authority_(District)  \\\n",
       "0                     1            3     1                          12   \n",
       "1                     1            4     1                          12   \n",
       "2                     1            5     0                          12   \n",
       "3                     1            6     1                          12   \n",
       "4                     1            2     0                          12   \n",
       "\n",
       "   1st_Road_Class  ...  Pedestrian_Crossing-Human_Control  \\\n",
       "0               3  ...              None within 50 metres   \n",
       "1               4  ...              None within 50 metres   \n",
       "2               5  ...              None within 50 metres   \n",
       "3               3  ...              None within 50 metres   \n",
       "4               6  ...              None within 50 metres   \n",
       "\n",
       "       Pedestrian_Crossing-Physical_Facilities  \\\n",
       "0                               Zebra crossing   \n",
       "1  Pedestrian phase at traffic signal junction   \n",
       "2        No physical crossing within 50 meters   \n",
       "3        No physical crossing within 50 meters   \n",
       "4        No physical crossing within 50 meters   \n",
       "\n",
       "                          Light_Conditions          Weather_Conditions  \\\n",
       "0           Daylight: Street light present  Raining without high winds   \n",
       "1  Darkness: Street lights present and lit     Fine without high winds   \n",
       "2  Darkness: Street lights present and lit     Fine without high winds   \n",
       "3           Daylight: Street light present     Fine without high winds   \n",
       "4        Darkness: Street lighting unknown     Fine without high winds   \n",
       "\n",
       "   Road_Surface_Conditions  Special_Conditions_at_Site Carriageway_Hazards  \\\n",
       "0                 Wet/Damp                        None                None   \n",
       "1                      Dry                        None                None   \n",
       "2                      Dry                        None                None   \n",
       "3                      Dry                        None                None   \n",
       "4                 Wet/Damp                        None                None   \n",
       "\n",
       "  Urban_or_Rural_Area Police_Attend_Scene_of_Accident    weight  \n",
       "0                   1                               1  0.135960  \n",
       "1                   1                               1  0.012925  \n",
       "2                   1                               1  0.012925  \n",
       "3                   1                               1  0.012925  \n",
       "4                   1                               1  0.012925  \n",
       "\n",
       "[5 rows x 26 columns]"
      ]
     },
     "execution_count": 28,
     "metadata": {},
     "output_type": "execute_result"
    }
   ],
   "source": [
    "# add weight column by using \"inverse ratio\"\n",
    "weight = []\n",
    "for i in df['Accident_Severity']:\n",
    "    if i == 1:\n",
    "        weight.append(ratio_3)\n",
    "    elif i == 2:\n",
    "        weight.append(ratio_2)\n",
    "    else:\n",
    "        weight.append(ratio_1)\n",
    "# create new column weight\n",
    "df['weight'] = weight\n",
    "df.head()"
   ]
  },
  {
   "cell_type": "markdown",
   "metadata": {},
   "source": [
    "# set up data for classification and location "
   ]
  },
  {
   "cell_type": "code",
   "execution_count": 29,
   "metadata": {},
   "outputs": [
    {
     "data": {
      "text/html": [
       "<div>\n",
       "<style scoped>\n",
       "    .dataframe tbody tr th:only-of-type {\n",
       "        vertical-align: middle;\n",
       "    }\n",
       "\n",
       "    .dataframe tbody tr th {\n",
       "        vertical-align: top;\n",
       "    }\n",
       "\n",
       "    .dataframe thead th {\n",
       "        text-align: right;\n",
       "    }\n",
       "</style>\n",
       "<table border=\"1\" class=\"dataframe\">\n",
       "  <thead>\n",
       "    <tr style=\"text-align: right;\">\n",
       "      <th></th>\n",
       "      <th>Longitude</th>\n",
       "      <th>Latitude</th>\n",
       "    </tr>\n",
       "  </thead>\n",
       "  <tbody>\n",
       "    <tr>\n",
       "      <th>0</th>\n",
       "      <td>-0.191170</td>\n",
       "      <td>51.489096</td>\n",
       "    </tr>\n",
       "    <tr>\n",
       "      <th>1</th>\n",
       "      <td>-0.211708</td>\n",
       "      <td>51.520075</td>\n",
       "    </tr>\n",
       "    <tr>\n",
       "      <th>2</th>\n",
       "      <td>-0.206458</td>\n",
       "      <td>51.525301</td>\n",
       "    </tr>\n",
       "    <tr>\n",
       "      <th>3</th>\n",
       "      <td>-0.173862</td>\n",
       "      <td>51.482442</td>\n",
       "    </tr>\n",
       "    <tr>\n",
       "      <th>4</th>\n",
       "      <td>-0.156618</td>\n",
       "      <td>51.495752</td>\n",
       "    </tr>\n",
       "  </tbody>\n",
       "</table>\n",
       "</div>"
      ],
      "text/plain": [
       "   Longitude   Latitude\n",
       "0  -0.191170  51.489096\n",
       "1  -0.211708  51.520075\n",
       "2  -0.206458  51.525301\n",
       "3  -0.173862  51.482442\n",
       "4  -0.156618  51.495752"
      ]
     },
     "execution_count": 29,
     "metadata": {},
     "output_type": "execute_result"
    }
   ],
   "source": [
    "# make the location df\n",
    "column_names = [\"Longitude\", \"Latitude\"]\n",
    "location = pd.DataFrame(columns = column_names)\n",
    "location[\"Longitude\"] = df['Longitude']\n",
    "location[\"Latitude\"] = df[\"Latitude\"]\n",
    "location.head()"
   ]
  },
  {
   "cell_type": "code",
   "execution_count": 30,
   "metadata": {},
   "outputs": [
    {
     "data": {
      "text/html": [
       "<div>\n",
       "<style scoped>\n",
       "    .dataframe tbody tr th:only-of-type {\n",
       "        vertical-align: middle;\n",
       "    }\n",
       "\n",
       "    .dataframe tbody tr th {\n",
       "        vertical-align: top;\n",
       "    }\n",
       "\n",
       "    .dataframe thead th {\n",
       "        text-align: right;\n",
       "    }\n",
       "</style>\n",
       "<table border=\"1\" class=\"dataframe\">\n",
       "  <thead>\n",
       "    <tr style=\"text-align: right;\">\n",
       "      <th></th>\n",
       "      <th>Police_Force</th>\n",
       "      <th>Accident_Severity</th>\n",
       "      <th>Number_of_Vehicles</th>\n",
       "      <th>Number_of_Casualties</th>\n",
       "      <th>Day_of_Week</th>\n",
       "      <th>Time</th>\n",
       "      <th>Local_Authority_(District)</th>\n",
       "      <th>1st_Road_Class</th>\n",
       "      <th>1st_Road_Number</th>\n",
       "      <th>Road_Type</th>\n",
       "      <th>...</th>\n",
       "      <th>Pedestrian_Crossing-Human_Control</th>\n",
       "      <th>Pedestrian_Crossing-Physical_Facilities</th>\n",
       "      <th>Light_Conditions</th>\n",
       "      <th>Weather_Conditions</th>\n",
       "      <th>Road_Surface_Conditions</th>\n",
       "      <th>Special_Conditions_at_Site</th>\n",
       "      <th>Carriageway_Hazards</th>\n",
       "      <th>Urban_or_Rural_Area</th>\n",
       "      <th>Police_Attend_Scene_of_Accident</th>\n",
       "      <th>weight</th>\n",
       "    </tr>\n",
       "  </thead>\n",
       "  <tbody>\n",
       "    <tr>\n",
       "      <th>0</th>\n",
       "      <td>1</td>\n",
       "      <td>2</td>\n",
       "      <td>1</td>\n",
       "      <td>1</td>\n",
       "      <td>3</td>\n",
       "      <td>1</td>\n",
       "      <td>12</td>\n",
       "      <td>3</td>\n",
       "      <td>3218</td>\n",
       "      <td>Single carriageway</td>\n",
       "      <td>...</td>\n",
       "      <td>None within 50 metres</td>\n",
       "      <td>Zebra crossing</td>\n",
       "      <td>Daylight: Street light present</td>\n",
       "      <td>Raining without high winds</td>\n",
       "      <td>Wet/Damp</td>\n",
       "      <td>None</td>\n",
       "      <td>None</td>\n",
       "      <td>1</td>\n",
       "      <td>1</td>\n",
       "      <td>0.135960</td>\n",
       "    </tr>\n",
       "    <tr>\n",
       "      <th>1</th>\n",
       "      <td>1</td>\n",
       "      <td>3</td>\n",
       "      <td>1</td>\n",
       "      <td>1</td>\n",
       "      <td>4</td>\n",
       "      <td>1</td>\n",
       "      <td>12</td>\n",
       "      <td>4</td>\n",
       "      <td>450</td>\n",
       "      <td>Dual carriageway</td>\n",
       "      <td>...</td>\n",
       "      <td>None within 50 metres</td>\n",
       "      <td>Pedestrian phase at traffic signal junction</td>\n",
       "      <td>Darkness: Street lights present and lit</td>\n",
       "      <td>Fine without high winds</td>\n",
       "      <td>Dry</td>\n",
       "      <td>None</td>\n",
       "      <td>None</td>\n",
       "      <td>1</td>\n",
       "      <td>1</td>\n",
       "      <td>0.012925</td>\n",
       "    </tr>\n",
       "    <tr>\n",
       "      <th>2</th>\n",
       "      <td>1</td>\n",
       "      <td>3</td>\n",
       "      <td>2</td>\n",
       "      <td>1</td>\n",
       "      <td>5</td>\n",
       "      <td>0</td>\n",
       "      <td>12</td>\n",
       "      <td>5</td>\n",
       "      <td>0</td>\n",
       "      <td>Single carriageway</td>\n",
       "      <td>...</td>\n",
       "      <td>None within 50 metres</td>\n",
       "      <td>No physical crossing within 50 meters</td>\n",
       "      <td>Darkness: Street lights present and lit</td>\n",
       "      <td>Fine without high winds</td>\n",
       "      <td>Dry</td>\n",
       "      <td>None</td>\n",
       "      <td>None</td>\n",
       "      <td>1</td>\n",
       "      <td>1</td>\n",
       "      <td>0.012925</td>\n",
       "    </tr>\n",
       "    <tr>\n",
       "      <th>3</th>\n",
       "      <td>1</td>\n",
       "      <td>3</td>\n",
       "      <td>1</td>\n",
       "      <td>1</td>\n",
       "      <td>6</td>\n",
       "      <td>1</td>\n",
       "      <td>12</td>\n",
       "      <td>3</td>\n",
       "      <td>3220</td>\n",
       "      <td>Single carriageway</td>\n",
       "      <td>...</td>\n",
       "      <td>None within 50 metres</td>\n",
       "      <td>No physical crossing within 50 meters</td>\n",
       "      <td>Daylight: Street light present</td>\n",
       "      <td>Fine without high winds</td>\n",
       "      <td>Dry</td>\n",
       "      <td>None</td>\n",
       "      <td>None</td>\n",
       "      <td>1</td>\n",
       "      <td>1</td>\n",
       "      <td>0.012925</td>\n",
       "    </tr>\n",
       "    <tr>\n",
       "      <th>4</th>\n",
       "      <td>1</td>\n",
       "      <td>3</td>\n",
       "      <td>1</td>\n",
       "      <td>1</td>\n",
       "      <td>2</td>\n",
       "      <td>0</td>\n",
       "      <td>12</td>\n",
       "      <td>6</td>\n",
       "      <td>0</td>\n",
       "      <td>Single carriageway</td>\n",
       "      <td>...</td>\n",
       "      <td>None within 50 metres</td>\n",
       "      <td>No physical crossing within 50 meters</td>\n",
       "      <td>Darkness: Street lighting unknown</td>\n",
       "      <td>Fine without high winds</td>\n",
       "      <td>Wet/Damp</td>\n",
       "      <td>None</td>\n",
       "      <td>None</td>\n",
       "      <td>1</td>\n",
       "      <td>1</td>\n",
       "      <td>0.012925</td>\n",
       "    </tr>\n",
       "  </tbody>\n",
       "</table>\n",
       "<p>5 rows × 24 columns</p>\n",
       "</div>"
      ],
      "text/plain": [
       "   Police_Force  Accident_Severity  Number_of_Vehicles  Number_of_Casualties  \\\n",
       "0             1                  2                   1                     1   \n",
       "1             1                  3                   1                     1   \n",
       "2             1                  3                   2                     1   \n",
       "3             1                  3                   1                     1   \n",
       "4             1                  3                   1                     1   \n",
       "\n",
       "   Day_of_Week  Time  Local_Authority_(District)  1st_Road_Class  \\\n",
       "0            3     1                          12               3   \n",
       "1            4     1                          12               4   \n",
       "2            5     0                          12               5   \n",
       "3            6     1                          12               3   \n",
       "4            2     0                          12               6   \n",
       "\n",
       "   1st_Road_Number           Road_Type  ...  \\\n",
       "0             3218  Single carriageway  ...   \n",
       "1              450    Dual carriageway  ...   \n",
       "2                0  Single carriageway  ...   \n",
       "3             3220  Single carriageway  ...   \n",
       "4                0  Single carriageway  ...   \n",
       "\n",
       "   Pedestrian_Crossing-Human_Control  \\\n",
       "0              None within 50 metres   \n",
       "1              None within 50 metres   \n",
       "2              None within 50 metres   \n",
       "3              None within 50 metres   \n",
       "4              None within 50 metres   \n",
       "\n",
       "       Pedestrian_Crossing-Physical_Facilities  \\\n",
       "0                               Zebra crossing   \n",
       "1  Pedestrian phase at traffic signal junction   \n",
       "2        No physical crossing within 50 meters   \n",
       "3        No physical crossing within 50 meters   \n",
       "4        No physical crossing within 50 meters   \n",
       "\n",
       "                          Light_Conditions          Weather_Conditions  \\\n",
       "0           Daylight: Street light present  Raining without high winds   \n",
       "1  Darkness: Street lights present and lit     Fine without high winds   \n",
       "2  Darkness: Street lights present and lit     Fine without high winds   \n",
       "3           Daylight: Street light present     Fine without high winds   \n",
       "4        Darkness: Street lighting unknown     Fine without high winds   \n",
       "\n",
       "  Road_Surface_Conditions Special_Conditions_at_Site Carriageway_Hazards  \\\n",
       "0                Wet/Damp                       None                None   \n",
       "1                     Dry                       None                None   \n",
       "2                     Dry                       None                None   \n",
       "3                     Dry                       None                None   \n",
       "4                Wet/Damp                       None                None   \n",
       "\n",
       "  Urban_or_Rural_Area Police_Attend_Scene_of_Accident    weight  \n",
       "0                   1                               1  0.135960  \n",
       "1                   1                               1  0.012925  \n",
       "2                   1                               1  0.012925  \n",
       "3                   1                               1  0.012925  \n",
       "4                   1                               1  0.012925  \n",
       "\n",
       "[5 rows x 24 columns]"
      ]
     },
     "execution_count": 30,
     "metadata": {},
     "output_type": "execute_result"
    }
   ],
   "source": [
    "# make the classification df\n",
    "classification = df.drop(columns=[\"Longitude\", \"Latitude\"])\n",
    "classification.head()"
   ]
  },
  {
   "cell_type": "code",
   "execution_count": null,
   "metadata": {},
   "outputs": [],
   "source": []
  },
  {
   "cell_type": "markdown",
   "metadata": {},
   "source": [
    "# Transform categorical data"
   ]
  },
  {
   "cell_type": "code",
   "execution_count": 31,
   "metadata": {},
   "outputs": [
    {
     "data": {
      "text/plain": [
       "Police_Force                                 int64\n",
       "Accident_Severity                            int64\n",
       "Number_of_Vehicles                           int64\n",
       "Number_of_Casualties                         int64\n",
       "Day_of_Week                                  int64\n",
       "Time                                         int64\n",
       "Local_Authority_(District)                   int64\n",
       "1st_Road_Class                               int64\n",
       "1st_Road_Number                              int64\n",
       "Road_Type                                   object\n",
       "Speed_limit                                  int64\n",
       "Junction_Control                            object\n",
       "2nd_Road_Class                               int64\n",
       "2nd_Road_Number                              int64\n",
       "Pedestrian_Crossing-Human_Control           object\n",
       "Pedestrian_Crossing-Physical_Facilities     object\n",
       "Light_Conditions                            object\n",
       "Weather_Conditions                          object\n",
       "Road_Surface_Conditions                     object\n",
       "Special_Conditions_at_Site                  object\n",
       "Carriageway_Hazards                         object\n",
       "Urban_or_Rural_Area                          int64\n",
       "Police_Attend_Scene_of_Accident              int64\n",
       "weight                                     float64\n",
       "dtype: object"
      ]
     },
     "execution_count": 31,
     "metadata": {},
     "output_type": "execute_result"
    }
   ],
   "source": [
    "classification.dtypes"
   ]
  },
  {
   "cell_type": "code",
   "execution_count": 32,
   "metadata": {},
   "outputs": [],
   "source": [
    "l = []\n",
    "for i in classification['Road_Type']:\n",
    "    if i == 'Single carriageway':\n",
    "        l.append(1)\n",
    "    elif i =='Dual carriageway':\n",
    "        l.append(2)\n",
    "    elif i =='One way street':\n",
    "        l.append(3)\n",
    "    elif i =='Roundabout':\n",
    "        l.append(4)\n",
    "    elif i =='Slip road':\n",
    "        l.append(5)\n",
    "    else:\n",
    "        l.append(6)\n",
    "classification['Road_Type'] = l"
   ]
  },
  {
   "cell_type": "code",
   "execution_count": 33,
   "metadata": {},
   "outputs": [],
   "source": [
    "l = []\n",
    "for i in classification['Junction_Control']:\n",
    "    if i == 'Giveway or uncontrolled':\n",
    "        l.append(1)\n",
    "    elif i =='Automatic traffic signal':\n",
    "        l.append(2)\n",
    "    elif i =='Stop Sign':\n",
    "        l.append(3)\n",
    "    elif i =='Authorised person':\n",
    "        l.append(4)\n",
    "classification['Junction_Control'] = l"
   ]
  },
  {
   "cell_type": "code",
   "execution_count": 34,
   "metadata": {},
   "outputs": [],
   "source": [
    "l = []\n",
    "for i in classification['Pedestrian_Crossing-Human_Control']:\n",
    "    if i == 'None within 50 metres':\n",
    "        l.append(1)\n",
    "    elif i =='Control by other authorised person':\n",
    "        l.append(2)\n",
    "    else:\n",
    "        l.append(3)\n",
    "classification['Pedestrian_Crossing-Human_Control'] = l"
   ]
  },
  {
   "cell_type": "code",
   "execution_count": 35,
   "metadata": {},
   "outputs": [],
   "source": [
    "l = []\n",
    "for i in classification['Pedestrian_Crossing-Physical_Facilities']:\n",
    "    if i == 'Zebra crossing':\n",
    "        l.append(1)\n",
    "    elif i == 'Pedestrian phase at traffic signal junction':\n",
    "        l.append(2)\n",
    "    elif i == 'No physical crossing within 50 meters':\n",
    "        l.append(3)\n",
    "    elif i == 'Central refuge':\n",
    "        l.append(4)\n",
    "    elif i == 'non-junction pedestrian crossing':\n",
    "        l.append(5)\n",
    "    else:\n",
    "        l.append(6)\n",
    "classification['Pedestrian_Crossing-Physical_Facilities'] = l"
   ]
  },
  {
   "cell_type": "code",
   "execution_count": 36,
   "metadata": {},
   "outputs": [],
   "source": [
    "l = []\n",
    "for i in classification['Light_Conditions']:\n",
    "    if i == 'Daylight: Street light present':\n",
    "        l.append(1)\n",
    "    elif i == 'Darkness: Street lights present and lit':\n",
    "        l.append(2)\n",
    "    elif i == 'Darkness: Street lighting unknown':\n",
    "        l.append(3)\n",
    "    elif i =='Darkness: Street lights present but unlit':\n",
    "        l.append(4)\n",
    "    else:\n",
    "        l.append(5)\n",
    "classification['Light_Conditions'] = l"
   ]
  },
  {
   "cell_type": "code",
   "execution_count": 37,
   "metadata": {},
   "outputs": [],
   "source": [
    "l = []\n",
    "for i in classification['Weather_Conditions']:\n",
    "    if i == 'Raining without high winds':\n",
    "        l.append(1)\n",
    "    elif i =='Fine without high winds':\n",
    "        l.append(2)\n",
    "    elif i =='Unknown':\n",
    "        l.append(3)\n",
    "    elif i =='Snowing without high winds':\n",
    "        l.append(4)\n",
    "    elif i =='Other':\n",
    "        l.append(5)\n",
    "    elif i =='Fine with high winds':\n",
    "        l.append(6)\n",
    "    elif i =='Raining with high winds':\n",
    "        l.append(7)\n",
    "    elif i =='Fog or mist':\n",
    "        l.append(8)\n",
    "    else:\n",
    "        l.append(9)\n",
    "classification['Weather_Conditions'] = l"
   ]
  },
  {
   "cell_type": "code",
   "execution_count": 38,
   "metadata": {},
   "outputs": [],
   "source": [
    "l = []\n",
    "for i in classification['Road_Surface_Conditions']:\n",
    "    if i == 'Wet/Damp':\n",
    "        l.append(1)\n",
    "    elif i =='Dry':\n",
    "        l.append(2)\n",
    "    elif i =='Frost/Ice':\n",
    "        l.append(3)\n",
    "    elif i =='Snow':\n",
    "        l.append(4)\n",
    "    else:\n",
    "        l.append(5)\n",
    "classification['Road_Surface_Conditions'] = l"
   ]
  },
  {
   "cell_type": "code",
   "execution_count": 39,
   "metadata": {},
   "outputs": [],
   "source": [
    "l = []\n",
    "for i in classification['Special_Conditions_at_Site']:\n",
    "    if i == 'None':\n",
    "        l.append(1)\n",
    "    elif i =='Ol or diesel':\n",
    "        l.append(2)\n",
    "    elif i =='Roadworks':\n",
    "        l.append(3)\n",
    "    elif i =='Road surface defective':\n",
    "        l.append(4)\n",
    "    elif i =='Auto traffic singal out':\n",
    "        l.append(5)\n",
    "    elif i =='Permanent sign or marking defective or obscured':\n",
    "        l.append(6)\n",
    "    else:\n",
    "        l.append(7)\n",
    "classification['Special_Conditions_at_Site'] = l"
   ]
  },
  {
   "cell_type": "code",
   "execution_count": 40,
   "metadata": {},
   "outputs": [],
   "source": [
    "l = []\n",
    "for i in classification['Carriageway_Hazards']:\n",
    "    if i == 'None':\n",
    "        l.append(1)\n",
    "    elif i =='Other object in carriageway':\n",
    "        l.append(2)\n",
    "    elif i =='Pedestrian in carriageway (not injured)':\n",
    "        l.append(3)\n",
    "    elif i == 'Dislodged vehicle load in carriageway':\n",
    "        l.append(4)\n",
    "    elif i =='Involvement with previous accident':\n",
    "        l.append(5)\n",
    "    else:\n",
    "        l.append(6)\n",
    "classification['Carriageway_Hazards'] = l"
   ]
  },
  {
   "cell_type": "code",
   "execution_count": 41,
   "metadata": {},
   "outputs": [
    {
     "data": {
      "text/plain": [
       "Police_Force                                 int64\n",
       "Accident_Severity                            int64\n",
       "Number_of_Vehicles                           int64\n",
       "Number_of_Casualties                         int64\n",
       "Day_of_Week                                  int64\n",
       "Time                                         int64\n",
       "Local_Authority_(District)                   int64\n",
       "1st_Road_Class                               int64\n",
       "1st_Road_Number                              int64\n",
       "Road_Type                                    int64\n",
       "Speed_limit                                  int64\n",
       "Junction_Control                             int64\n",
       "2nd_Road_Class                               int64\n",
       "2nd_Road_Number                              int64\n",
       "Pedestrian_Crossing-Human_Control            int64\n",
       "Pedestrian_Crossing-Physical_Facilities      int64\n",
       "Light_Conditions                             int64\n",
       "Weather_Conditions                           int64\n",
       "Road_Surface_Conditions                      int64\n",
       "Special_Conditions_at_Site                   int64\n",
       "Carriageway_Hazards                          int64\n",
       "Urban_or_Rural_Area                          int64\n",
       "Police_Attend_Scene_of_Accident              int64\n",
       "weight                                     float64\n",
       "dtype: object"
      ]
     },
     "execution_count": 41,
     "metadata": {},
     "output_type": "execute_result"
    }
   ],
   "source": [
    "classification.dtypes"
   ]
  },
  {
   "cell_type": "code",
   "execution_count": 42,
   "metadata": {},
   "outputs": [],
   "source": [
    "classification.to_csv('Classification_Data.csv', index=False)\n",
    "location.to_csv('Location_Data.csv', index=False)"
   ]
  }
 ],
 "metadata": {
  "kernelspec": {
   "display_name": "Python 3",
   "language": "python",
   "name": "python3"
  },
  "language_info": {
   "codemirror_mode": {
    "name": "ipython",
    "version": 3
   },
   "file_extension": ".py",
   "mimetype": "text/x-python",
   "name": "python",
   "nbconvert_exporter": "python",
   "pygments_lexer": "ipython3",
   "version": "3.7.3"
  }
 },
 "nbformat": 4,
 "nbformat_minor": 2
}
