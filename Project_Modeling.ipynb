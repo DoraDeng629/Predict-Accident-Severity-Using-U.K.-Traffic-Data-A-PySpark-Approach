{
 "cells": [
  {
   "cell_type": "code",
   "execution_count": 1,
   "metadata": {},
   "outputs": [],
   "source": [
    "from google.cloud import storage\n",
    "import os\n",
    "from io import BytesIO\n",
    "import pandas as pd\n",
    "\n",
    "#Connect to GCP bucket and assign the bucket_name and specify the file name\n",
    "bucket_name = \"lich-bucket\"\n",
    "storage_client = storage.Client()\n",
    "\n",
    "bucket = storage_client.get_bucket(bucket_name)"
   ]
  },
  {
   "cell_type": "code",
   "execution_count": 2,
   "metadata": {},
   "outputs": [],
   "source": [
    "blob1 = storage.blob.Blob(\"Classification_Data.csv\",bucket)"
   ]
  },
  {
   "cell_type": "code",
   "execution_count": 3,
   "metadata": {},
   "outputs": [
    {
     "data": {
      "text/plain": [
       "<Blob: lich-bucket, Classification_Data.csv, None>"
      ]
     },
     "execution_count": 3,
     "metadata": {},
     "output_type": "execute_result"
    }
   ],
   "source": [
    "blob1"
   ]
  },
  {
   "cell_type": "code",
   "execution_count": 4,
   "metadata": {},
   "outputs": [
    {
     "data": {
      "text/html": [
       "<div>\n",
       "<style scoped>\n",
       "    .dataframe tbody tr th:only-of-type {\n",
       "        vertical-align: middle;\n",
       "    }\n",
       "\n",
       "    .dataframe tbody tr th {\n",
       "        vertical-align: top;\n",
       "    }\n",
       "\n",
       "    .dataframe thead th {\n",
       "        text-align: right;\n",
       "    }\n",
       "</style>\n",
       "<table border=\"1\" class=\"dataframe\">\n",
       "  <thead>\n",
       "    <tr style=\"text-align: right;\">\n",
       "      <th></th>\n",
       "      <th>Police_Force</th>\n",
       "      <th>Accident_Severity</th>\n",
       "      <th>Number_of_Vehicles</th>\n",
       "      <th>Number_of_Casualties</th>\n",
       "      <th>Day_of_Week</th>\n",
       "      <th>Time</th>\n",
       "      <th>Local_Authority_(District)</th>\n",
       "      <th>1st_Road_Class</th>\n",
       "      <th>1st_Road_Number</th>\n",
       "      <th>Road_Type</th>\n",
       "      <th>...</th>\n",
       "      <th>Pedestrian_Crossing-Human_Control</th>\n",
       "      <th>Pedestrian_Crossing-Physical_Facilities</th>\n",
       "      <th>Light_Conditions</th>\n",
       "      <th>Weather_Conditions</th>\n",
       "      <th>Road_Surface_Conditions</th>\n",
       "      <th>Special_Conditions_at_Site</th>\n",
       "      <th>Carriageway_Hazards</th>\n",
       "      <th>Urban_or_Rural_Area</th>\n",
       "      <th>Police_Attend_Scene_of_Accident</th>\n",
       "      <th>weight</th>\n",
       "    </tr>\n",
       "  </thead>\n",
       "  <tbody>\n",
       "    <tr>\n",
       "      <th>0</th>\n",
       "      <td>1</td>\n",
       "      <td>2</td>\n",
       "      <td>1</td>\n",
       "      <td>1</td>\n",
       "      <td>3</td>\n",
       "      <td>1</td>\n",
       "      <td>12</td>\n",
       "      <td>3</td>\n",
       "      <td>3218</td>\n",
       "      <td>1</td>\n",
       "      <td>...</td>\n",
       "      <td>1</td>\n",
       "      <td>1</td>\n",
       "      <td>1</td>\n",
       "      <td>1</td>\n",
       "      <td>1</td>\n",
       "      <td>1</td>\n",
       "      <td>1</td>\n",
       "      <td>1</td>\n",
       "      <td>1</td>\n",
       "      <td>0.135960</td>\n",
       "    </tr>\n",
       "    <tr>\n",
       "      <th>1</th>\n",
       "      <td>1</td>\n",
       "      <td>3</td>\n",
       "      <td>1</td>\n",
       "      <td>1</td>\n",
       "      <td>4</td>\n",
       "      <td>1</td>\n",
       "      <td>12</td>\n",
       "      <td>4</td>\n",
       "      <td>450</td>\n",
       "      <td>2</td>\n",
       "      <td>...</td>\n",
       "      <td>1</td>\n",
       "      <td>2</td>\n",
       "      <td>2</td>\n",
       "      <td>2</td>\n",
       "      <td>2</td>\n",
       "      <td>1</td>\n",
       "      <td>1</td>\n",
       "      <td>1</td>\n",
       "      <td>1</td>\n",
       "      <td>0.012925</td>\n",
       "    </tr>\n",
       "    <tr>\n",
       "      <th>2</th>\n",
       "      <td>1</td>\n",
       "      <td>3</td>\n",
       "      <td>2</td>\n",
       "      <td>1</td>\n",
       "      <td>5</td>\n",
       "      <td>0</td>\n",
       "      <td>12</td>\n",
       "      <td>5</td>\n",
       "      <td>0</td>\n",
       "      <td>1</td>\n",
       "      <td>...</td>\n",
       "      <td>1</td>\n",
       "      <td>3</td>\n",
       "      <td>2</td>\n",
       "      <td>2</td>\n",
       "      <td>2</td>\n",
       "      <td>1</td>\n",
       "      <td>1</td>\n",
       "      <td>1</td>\n",
       "      <td>1</td>\n",
       "      <td>0.012925</td>\n",
       "    </tr>\n",
       "    <tr>\n",
       "      <th>3</th>\n",
       "      <td>1</td>\n",
       "      <td>3</td>\n",
       "      <td>1</td>\n",
       "      <td>1</td>\n",
       "      <td>6</td>\n",
       "      <td>1</td>\n",
       "      <td>12</td>\n",
       "      <td>3</td>\n",
       "      <td>3220</td>\n",
       "      <td>1</td>\n",
       "      <td>...</td>\n",
       "      <td>1</td>\n",
       "      <td>3</td>\n",
       "      <td>1</td>\n",
       "      <td>2</td>\n",
       "      <td>2</td>\n",
       "      <td>1</td>\n",
       "      <td>1</td>\n",
       "      <td>1</td>\n",
       "      <td>1</td>\n",
       "      <td>0.012925</td>\n",
       "    </tr>\n",
       "    <tr>\n",
       "      <th>4</th>\n",
       "      <td>1</td>\n",
       "      <td>3</td>\n",
       "      <td>1</td>\n",
       "      <td>1</td>\n",
       "      <td>2</td>\n",
       "      <td>0</td>\n",
       "      <td>12</td>\n",
       "      <td>6</td>\n",
       "      <td>0</td>\n",
       "      <td>1</td>\n",
       "      <td>...</td>\n",
       "      <td>1</td>\n",
       "      <td>3</td>\n",
       "      <td>3</td>\n",
       "      <td>2</td>\n",
       "      <td>1</td>\n",
       "      <td>1</td>\n",
       "      <td>1</td>\n",
       "      <td>1</td>\n",
       "      <td>1</td>\n",
       "      <td>0.012925</td>\n",
       "    </tr>\n",
       "  </tbody>\n",
       "</table>\n",
       "<p>5 rows × 24 columns</p>\n",
       "</div>"
      ],
      "text/plain": [
       "   Police_Force  Accident_Severity  Number_of_Vehicles  Number_of_Casualties  \\\n",
       "0             1                  2                   1                     1   \n",
       "1             1                  3                   1                     1   \n",
       "2             1                  3                   2                     1   \n",
       "3             1                  3                   1                     1   \n",
       "4             1                  3                   1                     1   \n",
       "\n",
       "   Day_of_Week  Time  Local_Authority_(District)  1st_Road_Class  \\\n",
       "0            3     1                          12               3   \n",
       "1            4     1                          12               4   \n",
       "2            5     0                          12               5   \n",
       "3            6     1                          12               3   \n",
       "4            2     0                          12               6   \n",
       "\n",
       "   1st_Road_Number  Road_Type  ...  Pedestrian_Crossing-Human_Control  \\\n",
       "0             3218          1  ...                                  1   \n",
       "1              450          2  ...                                  1   \n",
       "2                0          1  ...                                  1   \n",
       "3             3220          1  ...                                  1   \n",
       "4                0          1  ...                                  1   \n",
       "\n",
       "   Pedestrian_Crossing-Physical_Facilities  Light_Conditions  \\\n",
       "0                                        1                 1   \n",
       "1                                        2                 2   \n",
       "2                                        3                 2   \n",
       "3                                        3                 1   \n",
       "4                                        3                 3   \n",
       "\n",
       "   Weather_Conditions  Road_Surface_Conditions  Special_Conditions_at_Site  \\\n",
       "0                   1                        1                           1   \n",
       "1                   2                        2                           1   \n",
       "2                   2                        2                           1   \n",
       "3                   2                        2                           1   \n",
       "4                   2                        1                           1   \n",
       "\n",
       "   Carriageway_Hazards  Urban_or_Rural_Area  Police_Attend_Scene_of_Accident  \\\n",
       "0                    1                    1                                1   \n",
       "1                    1                    1                                1   \n",
       "2                    1                    1                                1   \n",
       "3                    1                    1                                1   \n",
       "4                    1                    1                                1   \n",
       "\n",
       "     weight  \n",
       "0  0.135960  \n",
       "1  0.012925  \n",
       "2  0.012925  \n",
       "3  0.012925  \n",
       "4  0.012925  \n",
       "\n",
       "[5 rows x 24 columns]"
      ]
     },
     "execution_count": 4,
     "metadata": {},
     "output_type": "execute_result"
    }
   ],
   "source": [
    "# Convert rating data to pandas dataframes\n",
    "content = blob1.download_as_string()\n",
    "df = pd.read_csv(BytesIO(content))\n",
    "df.head()"
   ]
  },
  {
   "cell_type": "code",
   "execution_count": 5,
   "metadata": {},
   "outputs": [],
   "source": [
    "# impport everything we need\n",
    "from pyspark.sql.types import *\n",
    "from pyspark import SparkContext\n",
    "from pyspark.sql import SQLContext\n",
    "from pyspark.ml.evaluation import RegressionEvaluator\n",
    "from pyspark.ml.recommendation import ALS\n",
    "from pyspark.sql import Row\n",
    "from pyspark.sql import SparkSession\n",
    "import matplotlib.pyplot as plt\n",
    "import numpy as np"
   ]
  },
  {
   "cell_type": "code",
   "execution_count": 6,
   "metadata": {},
   "outputs": [],
   "source": [
    "# initializing the spark session\n",
    "spark = SparkSession.builder.appName('classification').getOrCreate()"
   ]
  },
  {
   "cell_type": "markdown",
   "metadata": {},
   "source": [
    "# Deal with Imbalanced data with SMOTE"
   ]
  },
  {
   "cell_type": "code",
   "execution_count": 7,
   "metadata": {},
   "outputs": [],
   "source": [
    "X = df.filter(items=['Police_Force','Number_of_Vehicles','Number_of_Casualties',\n",
    "                     'Day_of_Week','Time','Local_Authority_(District)','1st_Road_Class',\n",
    "                     '1st_Road_Number','Road_Type','Speed_limit','Pedestrian_Crossing-Human_Control',\n",
    "                     'Junction_Control','2nd_Road_Class','2nd_Road_Number',\n",
    "                     'Pedestrian_Crossing-Physical_Facilities','Light_Conditions',\n",
    "                     'Weather_Conditions','Road_Surface_Conditions','Special_Conditions_at_Site',\n",
    "                     'Carriageway_Hazards','Urban_or_Rural_Area','Police_Attend_Scene_of_Accident','weight'])\n",
    "Y = df.filter(items=['Accident_Severity'])\n",
    "from sklearn.model_selection import train_test_split\n",
    "X_train, X_test, Y_train, Y_test = train_test_split(X, Y, test_size=0.1, random_state=0)"
   ]
  },
  {
   "cell_type": "code",
   "execution_count": 8,
   "metadata": {
    "scrolled": true
   },
   "outputs": [],
   "source": [
    "# pip install -U imbalanced-learn"
   ]
  },
  {
   "cell_type": "code",
   "execution_count": 9,
   "metadata": {},
   "outputs": [],
   "source": [
    "# SMOTE method to deal with imbalance data with oversample\n",
    "from imblearn.over_sampling import SMOTE\n",
    "\n",
    "sm = SMOTE(random_state=12)\n",
    "x_train_res, y_train_res = sm.fit_sample(X_train, Y_train)"
   ]
  },
  {
   "cell_type": "code",
   "execution_count": 10,
   "metadata": {},
   "outputs": [],
   "source": [
    "# Combine oversampled datasets\n",
    "dataframe_1 = pd.DataFrame(x_train_res,columns=['Police_Force','Number_of_Vehicles','Number_of_Casualties',\n",
    "                                                'Day_of_Week','Time','Local_Authority_(District)','1st_Road_Class',\n",
    "                                                '1st_Road_Number','Road_Type','Speed_limit',\n",
    "                                                'Pedestrian_Crossing-Human_Control',\n",
    "                                                'Junction_Control','2nd_Road_Class','2nd_Road_Number',\n",
    "                                                'Pedestrian_Crossing-Physical_Facilities','Light_Conditions',\n",
    "                                                'Weather_Conditions','Road_Surface_Conditions',\n",
    "                                                'Special_Conditions_at_Site',\n",
    "                                                'Carriageway_Hazards','Urban_or_Rural_Area',\n",
    "                                                'Police_Attend_Scene_of_Accident','weight'])\n",
    "dataframe_2 = pd.DataFrame(y_train_res, columns = ['Accident_Severity'])\n",
    "result = dataframe_1.combine_first(dataframe_2)"
   ]
  },
  {
   "cell_type": "code",
   "execution_count": 11,
   "metadata": {},
   "outputs": [],
   "source": [
    "# save dataset (in case)\n",
    "result.to_csv('data.csv', index = False)"
   ]
  },
  {
   "cell_type": "code",
   "execution_count": 12,
   "metadata": {},
   "outputs": [],
   "source": [
    "df = spark.read.csv('data.csv', header=True)"
   ]
  },
  {
   "cell_type": "code",
   "execution_count": 13,
   "metadata": {},
   "outputs": [
    {
     "data": {
      "text/plain": [
       "([<matplotlib.axis.XTick at 0x7f20a36e64d0>,\n",
       "  <matplotlib.axis.XTick at 0x7f2091b30cd0>,\n",
       "  <matplotlib.axis.XTick at 0x7f20a37ba9d0>],\n",
       " <a list of 3 Text xticklabel objects>)"
      ]
     },
     "execution_count": 13,
     "metadata": {},
     "output_type": "execute_result"
    },
    {
     "data": {
      "image/png": "[encoded data removed]",
      "text/plain": [
       "<Figure size 432x288 with 1 Axes>"
      ]
     },
     "metadata": {
      "needs_background": "light"
     },
     "output_type": "display_data"
    }
   ],
   "source": [
    "# see the data distribution after SMOTE\n",
    "responses = df.groupBy('Accident_Severity').count().collect()\n",
    "categories = [i[0] for i in responses]\n",
    "counts = [i[1] for i in responses]\n",
    " \n",
    "ind = np.array(range(len(categories)))\n",
    "width = 0.35\n",
    "plt.bar(ind, counts, width=width, color='r')\n",
    " \n",
    "plt.ylabel('counts')\n",
    "plt.title('Accident Severity')\n",
    "plt.xticks(ind + width/2., categories)"
   ]
  },
  {
   "cell_type": "markdown",
   "metadata": {},
   "source": [
    "# Feature development"
   ]
  },
  {
   "cell_type": "code",
   "execution_count": 14,
   "metadata": {},
   "outputs": [
    {
     "name": "stdout",
     "output_type": "stream",
     "text": [
      "root\n",
      " |-- 1st_Road_Class: double (nullable = true)\n",
      " |-- 1st_Road_Number: double (nullable = true)\n",
      " |-- 2nd_Road_Class: double (nullable = true)\n",
      " |-- 2nd_Road_Number: double (nullable = true)\n",
      " |-- Accident_Severity: double (nullable = true)\n",
      " |-- Carriageway_Hazards: double (nullable = true)\n",
      " |-- Day_of_Week: double (nullable = true)\n",
      " |-- Junction_Control: double (nullable = true)\n",
      " |-- Light_Conditions: double (nullable = true)\n",
      " |-- Local_Authority_(District): double (nullable = true)\n",
      " |-- Number_of_Casualties: double (nullable = true)\n",
      " |-- Number_of_Vehicles: double (nullable = true)\n",
      " |-- Pedestrian_Crossing-Human_Control: double (nullable = true)\n",
      " |-- Pedestrian_Crossing-Physical_Facilities: double (nullable = true)\n",
      " |-- Police_Attend_Scene_of_Accident: double (nullable = true)\n",
      " |-- Police_Force: double (nullable = true)\n",
      " |-- Road_Surface_Conditions: double (nullable = true)\n",
      " |-- Road_Type: double (nullable = true)\n",
      " |-- Special_Conditions_at_Site: double (nullable = true)\n",
      " |-- Speed_limit: double (nullable = true)\n",
      " |-- Time: double (nullable = true)\n",
      " |-- Urban_or_Rural_Area: double (nullable = true)\n",
      " |-- Weather_Conditions: double (nullable = true)\n",
      " |-- weight: double (nullable = true)\n",
      "\n"
     ]
    }
   ],
   "source": [
    "# make sure all variable type are double\n",
    "from pyspark.sql import functions as F\n",
    "\n",
    "for col in df.columns:\n",
    "    df = df.withColumn(col,F.col(col).cast(\"double\"))\n",
    "\n",
    "df.printSchema()"
   ]
  },
  {
   "cell_type": "code",
   "execution_count": 15,
   "metadata": {},
   "outputs": [
    {
     "name": "stdout",
     "output_type": "stream",
     "text": [
      "root\n",
      " |-- 1st_Road_Class: double (nullable = true)\n",
      " |-- 1st_Road_Number: double (nullable = true)\n",
      " |-- 2nd_Road_Class: double (nullable = true)\n",
      " |-- 2nd_Road_Number: double (nullable = true)\n",
      " |-- label: double (nullable = true)\n",
      " |-- Carriageway_Hazards: double (nullable = true)\n",
      " |-- Day_of_Week: double (nullable = true)\n",
      " |-- Junction_Control: double (nullable = true)\n",
      " |-- Light_Conditions: double (nullable = true)\n",
      " |-- Local_Authority_(District): double (nullable = true)\n",
      " |-- Number_of_Casualties: double (nullable = true)\n",
      " |-- Number_of_Vehicles: double (nullable = true)\n",
      " |-- Pedestrian_Crossing-Human_Control: double (nullable = true)\n",
      " |-- Pedestrian_Crossing-Physical_Facilities: double (nullable = true)\n",
      " |-- Police_Attend_Scene_of_Accident: double (nullable = true)\n",
      " |-- Police_Force: double (nullable = true)\n",
      " |-- Road_Surface_Conditions: double (nullable = true)\n",
      " |-- Road_Type: double (nullable = true)\n",
      " |-- Special_Conditions_at_Site: double (nullable = true)\n",
      " |-- Speed_limit: double (nullable = true)\n",
      " |-- Time: double (nullable = true)\n",
      " |-- Urban_or_Rural_Area: double (nullable = true)\n",
      " |-- Weather_Conditions: double (nullable = true)\n",
      " |-- weight: double (nullable = true)\n",
      " |-- features: vector (nullable = true)\n",
      "\n"
     ]
    }
   ],
   "source": [
    "# transform all independents into a vector and put into a new column named 'features'\n",
    "from pyspark.ml.feature import VectorAssembler\n",
    "\n",
    "assembler = VectorAssembler(inputCols=['Police_Force','Number_of_Vehicles','Number_of_Casualties',\n",
    "                                       'Day_of_Week','Time','Local_Authority_(District)','1st_Road_Class',\n",
    "                                       '1st_Road_Number','Road_Type','Speed_limit','Pedestrian_Crossing-Human_Control',\n",
    "                                       'Junction_Control','2nd_Road_Class','2nd_Road_Number',\n",
    "                                       'Pedestrian_Crossing-Physical_Facilities','Light_Conditions',\n",
    "                                       'Weather_Conditions','Road_Surface_Conditions','Special_Conditions_at_Site',\n",
    "                                       'Carriageway_Hazards','Urban_or_Rural_Area','Police_Attend_Scene_of_Accident'],\n",
    "                            outputCol=\"features\")\n",
    "df = assembler.transform(df)\n",
    "# rename to label\n",
    "df = df.withColumnRenamed(\"Accident_Severity\",\"label\")\n",
    "df.printSchema()"
   ]
  },
  {
   "cell_type": "markdown",
   "metadata": {},
   "source": [
    "# Modeling"
   ]
  },
  {
   "cell_type": "code",
   "execution_count": 16,
   "metadata": {},
   "outputs": [],
   "source": [
    "# split data 70%/30%\n",
    "(trainingData, testData) = df.randomSplit([0.7, 0.3], seed=0)"
   ]
  },
  {
   "cell_type": "code",
   "execution_count": 17,
   "metadata": {},
   "outputs": [],
   "source": [
    "# check training and testing data size\n",
    "#trainingData.count(), testData.count()\n",
    "\n",
    "# (2419854, 1036428)"
   ]
  },
  {
   "cell_type": "code",
   "execution_count": 18,
   "metadata": {},
   "outputs": [],
   "source": [
    "from pyspark.ml import Pipeline\n",
    "\n",
    "from pyspark.ml.classification import DecisionTreeClassifier\n",
    "from pyspark.ml.classification import RandomForestClassifier\n",
    "from pyspark.ml.classification import GBTClassifier # not appliable because only support binary\n",
    "from pyspark.ml.classification import LogisticRegression\n",
    "\n",
    "from pyspark.sql.functions import avg\n",
    "from pyspark.ml.evaluation import MulticlassClassificationEvaluator\n",
    "from pyspark.mllib.evaluation import MulticlassMetrics"
   ]
  },
  {
   "cell_type": "markdown",
   "metadata": {},
   "source": [
    "### Decision Tree"
   ]
  },
  {
   "cell_type": "code",
   "execution_count": 19,
   "metadata": {
    "scrolled": true
   },
   "outputs": [],
   "source": [
    "# decision tree approach\n",
    "# define model\n",
    "dt = DecisionTreeClassifier(labelCol=\"label\", featuresCol=\"features\")"
   ]
  },
  {
   "cell_type": "code",
   "execution_count": 20,
   "metadata": {},
   "outputs": [],
   "source": [
    "# set up pipeline\n",
    "pipeline_dt = Pipeline(stages=[dt])"
   ]
  },
  {
   "cell_type": "code",
   "execution_count": 21,
   "metadata": {},
   "outputs": [],
   "source": [
    "# fit training data\n",
    "model_dt = pipeline_dt.fit(trainingData)"
   ]
  },
  {
   "cell_type": "code",
   "execution_count": 22,
   "metadata": {},
   "outputs": [],
   "source": [
    "# make prediction on test data\n",
    "predictions_dt = model_dt.transform(testData)"
   ]
  },
  {
   "cell_type": "code",
   "execution_count": 23,
   "metadata": {},
   "outputs": [],
   "source": [
    "# get actual value\n",
    "y_true = predictions_dt.select(\"label\")\n",
    "y_true = y_true.toPandas()"
   ]
  },
  {
   "cell_type": "code",
   "execution_count": 24,
   "metadata": {},
   "outputs": [],
   "source": [
    "# get prediction\n",
    "y_pred = predictions_dt.select(\"prediction\")\n",
    "y_pred = y_pred.toPandas()"
   ]
  },
  {
   "cell_type": "code",
   "execution_count": 25,
   "metadata": {},
   "outputs": [],
   "source": [
    "# set up index for confusion matrix\n",
    "class_temp = predictions_dt.select(\"label\").groupBy(\"label\")\\\n",
    "                        .count().sort('count', ascending=False).toPandas()\n",
    "class_temp = class_temp[\"label\"].values.tolist()"
   ]
  },
  {
   "cell_type": "code",
   "execution_count": 26,
   "metadata": {},
   "outputs": [
    {
     "data": {
      "text/plain": [
       "array([[253970,  60042,  31613],\n",
       "       [137045, 110064,  98334],\n",
       "       [ 64687,  64496, 216177]])"
      ]
     },
     "execution_count": 26,
     "metadata": {},
     "output_type": "execute_result"
    }
   ],
   "source": [
    "# a raw output of confusion matrix\n",
    "from sklearn.metrics import confusion_matrix\n",
    "dt_matrix = confusion_matrix(y_true, y_pred, labels=class_temp)\n",
    "dt_matrix"
   ]
  },
  {
   "cell_type": "code",
   "execution_count": 27,
   "metadata": {},
   "outputs": [],
   "source": [
    "# function used to plot matrix\n",
    "import matplotlib.pyplot as plt\n",
    "import numpy as np\n",
    "import itertools\n",
    "\n",
    "def plot_confusion_matrix(cm, classes,\n",
    "                          normalize=False,\n",
    "                          title='Confusion matrix',\n",
    "                          cmap=plt.cm.Blues):\n",
    "    \n",
    "    if normalize:\n",
    "        cm = cm.astype('float') / cm.sum(axis=1)[:, np.newaxis]\n",
    "        print(\"Normalized confusion matrix\")\n",
    "    else:\n",
    "        print('Confusion matrix, without normalization')\n",
    "\n",
    "    print(cm)\n",
    "\n",
    "    plt.imshow(cm, interpolation='nearest', cmap=cmap)\n",
    "    plt.title(title)\n",
    "    plt.colorbar()\n",
    "    tick_marks = np.arange(len(classes))\n",
    "    plt.xticks(tick_marks, classes, rotation=45)\n",
    "    plt.yticks(tick_marks, classes)\n",
    "\n",
    "    fmt = '.2f' if normalize else 'd'\n",
    "    thresh = cm.max() / 2.\n",
    "    for i, j in itertools.product(range(cm.shape[0]), range(cm.shape[1])):\n",
    "        plt.text(j, i, format(cm[i, j], fmt),\n",
    "                 horizontalalignment=\"center\",\n",
    "                 color=\"white\" if cm[i, j] > thresh else \"black\")\n",
    "\n",
    "    plt.tight_layout()\n",
    "    plt.ylabel('True label')\n",
    "    plt.xlabel('Predicted label')"
   ]
  },
  {
   "cell_type": "code",
   "execution_count": 28,
   "metadata": {},
   "outputs": [
    {
     "name": "stdout",
     "output_type": "stream",
     "text": [
      "Normalized confusion matrix\n",
      "[[0.73481374 0.17372007 0.09146618]\n",
      " [0.39672247 0.31861696 0.28466057]\n",
      " [0.1873031  0.18675006 0.62594684]]\n"
     ]
    },
    {
     "data": {
      "image/png": "[encoded data removed]",
      "text/plain": [
       "<Figure size 432x288 with 2 Axes>"
      ]
     },
     "metadata": {
      "needs_background": "light"
     },
     "output_type": "display_data"
    }
   ],
   "source": [
    "# Plot normalized confusion matrix\n",
    "plt.figure()\n",
    "plot_confusion_matrix(dt_matrix, classes=class_temp,normalize=True,\n",
    "                      title='DT Confusion matrix, with normalization')\n",
    "plt.show()"
   ]
  },
  {
   "cell_type": "code",
   "execution_count": null,
   "metadata": {},
   "outputs": [],
   "source": [
    "#evaluator = MulticlassClassificationEvaluator(labelCol=\"label\", predictionCol=\"prediction\")\n",
    "#accuracy_dt = evaluator.evaluate(predictions_dt)\n",
    "#accuracy_dt"
   ]
  },
  {
   "cell_type": "code",
   "execution_count": 32,
   "metadata": {},
   "outputs": [
    {
     "data": {
      "text/plain": [
       "0.5598179516570374"
      ]
     },
     "execution_count": 32,
     "metadata": {},
     "output_type": "execute_result"
    }
   ],
   "source": [
    "# get accuracy\n",
    "evaluator = MulticlassClassificationEvaluator(predictionCol='prediction', labelCol='label', metricName='accuracy')\n",
    "accuracy_dt = evaluator.evaluate(predictions_dt)\n",
    "accuracy_dt"
   ]
  },
  {
   "cell_type": "code",
   "execution_count": 41,
   "metadata": {},
   "outputs": [
    {
     "data": {
      "text/plain": [
       "0.5462191974077444"
      ]
     },
     "execution_count": 41,
     "metadata": {},
     "output_type": "execute_result"
    }
   ],
   "source": [
    "# get f1\n",
    "evaluator = MulticlassClassificationEvaluator(predictionCol='prediction', labelCol='label', metricName='f1')\n",
    "f1_dt = evaluator.evaluate(predictions_dt)\n",
    "f1_dt"
   ]
  },
  {
   "cell_type": "code",
   "execution_count": null,
   "metadata": {},
   "outputs": [],
   "source": []
  },
  {
   "cell_type": "markdown",
   "metadata": {},
   "source": [
    "### Random Forest"
   ]
  },
  {
   "cell_type": "code",
   "execution_count": 42,
   "metadata": {},
   "outputs": [],
   "source": [
    "# random forest approach\n",
    "rf = RandomForestClassifier(labelCol=\"label\", featuresCol=\"features\")\n",
    "pipeline_rf = Pipeline(stages=[rf])"
   ]
  },
  {
   "cell_type": "code",
   "execution_count": 43,
   "metadata": {},
   "outputs": [],
   "source": [
    "model_rf = pipeline_rf.fit(trainingData)"
   ]
  },
  {
   "cell_type": "code",
   "execution_count": 44,
   "metadata": {},
   "outputs": [],
   "source": [
    "predictions_rf = model_rf.transform(testData)"
   ]
  },
  {
   "cell_type": "code",
   "execution_count": 45,
   "metadata": {},
   "outputs": [],
   "source": [
    "y_true = predictions_rf.select(\"label\")\n",
    "y_true = y_true.toPandas()"
   ]
  },
  {
   "cell_type": "code",
   "execution_count": 46,
   "metadata": {},
   "outputs": [],
   "source": [
    "y_pred = predictions_rf.select(\"prediction\")\n",
    "y_pred = y_pred.toPandas()"
   ]
  },
  {
   "cell_type": "code",
   "execution_count": 47,
   "metadata": {},
   "outputs": [],
   "source": [
    "class_temp = predictions_rf.select(\"label\").groupBy(\"label\")\\\n",
    "                        .count().sort('count', ascending=False).toPandas()\n",
    "class_temp = class_temp[\"label\"].values.tolist()"
   ]
  },
  {
   "cell_type": "code",
   "execution_count": 48,
   "metadata": {},
   "outputs": [
    {
     "data": {
      "text/plain": [
       "array([[248302,  62241,  35082],\n",
       "       [126755, 121820,  96868],\n",
       "       [ 65878,  64881, 214601]])"
      ]
     },
     "execution_count": 48,
     "metadata": {},
     "output_type": "execute_result"
    }
   ],
   "source": [
    "rf_matrix = confusion_matrix(y_true, y_pred, labels=class_temp)\n",
    "rf_matrix"
   ]
  },
  {
   "cell_type": "code",
   "execution_count": 49,
   "metadata": {},
   "outputs": [
    {
     "name": "stdout",
     "output_type": "stream",
     "text": [
      "Normalized confusion matrix\n",
      "[[0.71841447 0.18008246 0.10150307]\n",
      " [0.36693463 0.35264863 0.28041674]\n",
      " [0.19075168 0.18786484 0.62138348]]\n"
     ]
    },
    {
     "data": {
      "image/png": "[encoded data removed]",
      "text/plain": [
       "<Figure size 432x288 with 2 Axes>"
      ]
     },
     "metadata": {
      "needs_background": "light"
     },
     "output_type": "display_data"
    }
   ],
   "source": [
    "plt.figure()\n",
    "plot_confusion_matrix(rf_matrix, classes=class_temp,normalize=True,\n",
    "                      title='RF Confusion matrix, with normalization')\n",
    "plt.show()"
   ]
  },
  {
   "cell_type": "code",
   "execution_count": 50,
   "metadata": {},
   "outputs": [],
   "source": [
    "#evaluator = MulticlassClassificationEvaluator(labelCol=\"label\", predictionCol=\"prediction\")\n",
    "#accuracy_rf = evaluator.evaluate(predictions_rf)\n",
    "#accuracy_rf"
   ]
  },
  {
   "cell_type": "code",
   "execution_count": 51,
   "metadata": {},
   "outputs": [
    {
     "data": {
      "text/plain": [
       "0.5641713654976516"
      ]
     },
     "execution_count": 51,
     "metadata": {},
     "output_type": "execute_result"
    }
   ],
   "source": [
    "evaluator = MulticlassClassificationEvaluator(predictionCol='prediction', labelCol='label', metricName='accuracy')\n",
    "accuracy_rf = evaluator.evaluate(predictions_rf)\n",
    "accuracy_rf"
   ]
  },
  {
   "cell_type": "code",
   "execution_count": 52,
   "metadata": {},
   "outputs": [
    {
     "data": {
      "text/plain": [
       "0.5538677666085999"
      ]
     },
     "execution_count": 52,
     "metadata": {},
     "output_type": "execute_result"
    }
   ],
   "source": [
    "# get f1\n",
    "evaluator = MulticlassClassificationEvaluator(predictionCol='prediction', labelCol='label', metricName='f1')\n",
    "f1_rf = evaluator.evaluate(predictions_rf)\n",
    "f1_rf"
   ]
  },
  {
   "cell_type": "markdown",
   "metadata": {},
   "source": [
    "### logistic regression"
   ]
  },
  {
   "cell_type": "code",
   "execution_count": 53,
   "metadata": {},
   "outputs": [],
   "source": [
    "# Gradient-boosted tree approach\n",
    "lr = LogisticRegression(labelCol=\"label\", featuresCol=\"features\", family=\"multinomial\")\n",
    "pipeline_lr = Pipeline(stages=[lr])"
   ]
  },
  {
   "cell_type": "code",
   "execution_count": 54,
   "metadata": {},
   "outputs": [],
   "source": [
    "model_lr = pipeline_lr.fit(trainingData)"
   ]
  },
  {
   "cell_type": "code",
   "execution_count": 55,
   "metadata": {},
   "outputs": [],
   "source": [
    "predictions_lr = model_lr.transform(testData)"
   ]
  },
  {
   "cell_type": "code",
   "execution_count": 56,
   "metadata": {},
   "outputs": [],
   "source": [
    "y_true = predictions_lr.select(\"label\")\n",
    "y_true = y_true.toPandas()"
   ]
  },
  {
   "cell_type": "code",
   "execution_count": 57,
   "metadata": {},
   "outputs": [],
   "source": [
    "y_pred = predictions_lr.select(\"prediction\")\n",
    "y_pred = y_pred.toPandas()"
   ]
  },
  {
   "cell_type": "code",
   "execution_count": 58,
   "metadata": {},
   "outputs": [],
   "source": [
    "class_temp = predictions_lr.select(\"label\").groupBy(\"label\")\\\n",
    "                        .count().sort('count', ascending=False).toPandas()\n",
    "class_temp = class_temp[\"label\"].values.tolist()"
   ]
  },
  {
   "cell_type": "code",
   "execution_count": 59,
   "metadata": {},
   "outputs": [
    {
     "data": {
      "text/plain": [
       "array([[229735,  77768,  38122],\n",
       "       [116681, 128404, 100358],\n",
       "       [ 56068,  66024, 223268]])"
      ]
     },
     "execution_count": 59,
     "metadata": {},
     "output_type": "execute_result"
    }
   ],
   "source": [
    "lr_matrix = confusion_matrix(y_true, y_pred, labels=class_temp)\n",
    "lr_matrix"
   ]
  },
  {
   "cell_type": "code",
   "execution_count": 60,
   "metadata": {},
   "outputs": [
    {
     "name": "stdout",
     "output_type": "stream",
     "text": [
      "Normalized confusion matrix\n",
      "[[0.66469439 0.22500687 0.11029873]\n",
      " [0.33777208 0.37170821 0.29051971]\n",
      " [0.16234654 0.19117443 0.64647904]]\n"
     ]
    },
    {
     "data": {
      "image/png": "[encoded data removed]",
      "text/plain": [
       "<Figure size 432x288 with 2 Axes>"
      ]
     },
     "metadata": {
      "needs_background": "light"
     },
     "output_type": "display_data"
    }
   ],
   "source": [
    "plt.figure()\n",
    "plot_confusion_matrix(lr_matrix, classes=class_temp,normalize=True,\n",
    "                      title='LR Confusion matrix, with normalization')\n",
    "plt.show()"
   ]
  },
  {
   "cell_type": "code",
   "execution_count": 61,
   "metadata": {},
   "outputs": [],
   "source": [
    "#evaluator = MulticlassClassificationEvaluator(labelCol=\"label\", predictionCol=\"prediction\")\n",
    "#accuracy_lr = evaluator.evaluate(predictions_lr)\n",
    "#accuracy_lr"
   ]
  },
  {
   "cell_type": "code",
   "execution_count": 62,
   "metadata": {},
   "outputs": [
    {
     "data": {
      "text/plain": [
       "0.5609719150775548"
      ]
     },
     "execution_count": 62,
     "metadata": {},
     "output_type": "execute_result"
    }
   ],
   "source": [
    "evaluator = MulticlassClassificationEvaluator(predictionCol='prediction', labelCol='label', metricName='accuracy')\n",
    "accuracy_lr = evaluator.evaluate(predictions_lr)\n",
    "accuracy_lr"
   ]
  },
  {
   "cell_type": "code",
   "execution_count": 63,
   "metadata": {},
   "outputs": [
    {
     "data": {
      "text/plain": [
       "0.5538247753068419"
      ]
     },
     "execution_count": 63,
     "metadata": {},
     "output_type": "execute_result"
    }
   ],
   "source": [
    "# get f1\n",
    "evaluator = MulticlassClassificationEvaluator(predictionCol='prediction', labelCol='label', metricName='f1')\n",
    "f1_lr = evaluator.evaluate(predictions_lr)\n",
    "f1_lr"
   ]
  },
  {
   "cell_type": "markdown",
   "metadata": {},
   "source": [
    "# Evaluation"
   ]
  },
  {
   "cell_type": "code",
   "execution_count": 67,
   "metadata": {},
   "outputs": [
    {
     "name": "stdout",
     "output_type": "stream",
     "text": [
      "Decision Tree Model:\n",
      "The accuracy is 0.5598179516570374\n",
      "The F1 score is 0.5462191974077444\n",
      "-----------------------------------\n",
      "Random Forest Model:\n",
      "The accuracy is 0.5641713654976516\n",
      "The F1 score is 0.5538677666085999\n",
      "-----------------------------------\n",
      "Logistic Regression Model:\n",
      "The accuracy is 0.5609719150775548\n",
      "The F1 score is 0.5538247753068419\n"
     ]
    }
   ],
   "source": [
    "print('Decision Tree Model:')\n",
    "print('The accuracy is ' + str(accuracy_dt))\n",
    "print('The F1 score is ' + str(f1_dt))\n",
    "print('-----------------------------------')\n",
    "print('Random Forest Model:')\n",
    "print('The accuracy is ' + str(accuracy_rf))\n",
    "print('The F1 score is ' + str(f1_rf))\n",
    "print('-----------------------------------')\n",
    "print('Logistic Regression Model:')\n",
    "print('The accuracy is ' + str(accuracy_lr))\n",
    "print('The F1 score is ' + str(f1_lr))"
   ]
  },
  {
   "cell_type": "code",
   "execution_count": 68,
   "metadata": {},
   "outputs": [
    {
     "name": "stdout",
     "output_type": "stream",
     "text": [
      "Normalized confusion matrix\n",
      "[[0.73481374 0.17372007 0.09146618]\n",
      " [0.39672247 0.31861696 0.28466057]\n",
      " [0.1873031  0.18675006 0.62594684]]\n"
     ]
    },
    {
     "data": {
      "image/png": "[encoded data removed]",
      "text/plain": [
       "<Figure size 432x288 with 2 Axes>"
      ]
     },
     "metadata": {
      "needs_background": "light"
     },
     "output_type": "display_data"
    }
   ],
   "source": [
    "# DT\n",
    "plt.figure()\n",
    "plot_confusion_matrix(dt_matrix, classes=class_temp,normalize=True,\n",
    "                      title='Decision Tree Confusion Matrix')\n",
    "plt.show()"
   ]
  },
  {
   "cell_type": "code",
   "execution_count": 69,
   "metadata": {},
   "outputs": [
    {
     "name": "stdout",
     "output_type": "stream",
     "text": [
      "Normalized confusion matrix\n",
      "[[0.71841447 0.18008246 0.10150307]\n",
      " [0.36693463 0.35264863 0.28041674]\n",
      " [0.19075168 0.18786484 0.62138348]]\n"
     ]
    },
    {
     "data": {
      "image/png": "[encoded data removed]",
      "text/plain": [
       "<Figure size 432x288 with 2 Axes>"
      ]
     },
     "metadata": {
      "needs_background": "light"
     },
     "output_type": "display_data"
    }
   ],
   "source": [
    "# RF\n",
    "plt.figure()\n",
    "plot_confusion_matrix(rf_matrix, classes=class_temp,normalize=True,\n",
    "                      title='Random Forest Confusion Matrix')\n",
    "plt.show()"
   ]
  },
  {
   "cell_type": "code",
   "execution_count": 70,
   "metadata": {},
   "outputs": [
    {
     "name": "stdout",
     "output_type": "stream",
     "text": [
      "Normalized confusion matrix\n",
      "[[0.66469439 0.22500687 0.11029873]\n",
      " [0.33777208 0.37170821 0.29051971]\n",
      " [0.16234654 0.19117443 0.64647904]]\n"
     ]
    },
    {
     "data": {
      "image/png": "[encoded data removed]",
      "text/plain": [
       "<Figure size 432x288 with 2 Axes>"
      ]
     },
     "metadata": {
      "needs_background": "light"
     },
     "output_type": "display_data"
    }
   ],
   "source": [
    "# LR\n",
    "plt.figure()\n",
    "plot_confusion_matrix(lr_matrix, classes=class_temp,normalize=True,\n",
    "                      title='Logistic Regression Confusion Matrix')\n",
    "plt.show()"
   ]
  },
  {
   "cell_type": "code",
   "execution_count": 71,
   "metadata": {},
   "outputs": [
    {
     "data": {
      "text/html": [
       "<div>\n",
       "<style scoped>\n",
       "    .dataframe tbody tr th:only-of-type {\n",
       "        vertical-align: middle;\n",
       "    }\n",
       "\n",
       "    .dataframe tbody tr th {\n",
       "        vertical-align: top;\n",
       "    }\n",
       "\n",
       "    .dataframe thead th {\n",
       "        text-align: right;\n",
       "    }\n",
       "</style>\n",
       "<table border=\"1\" class=\"dataframe\">\n",
       "  <thead>\n",
       "    <tr style=\"text-align: right;\">\n",
       "      <th></th>\n",
       "      <th>Model</th>\n",
       "      <th>Accuracy</th>\n",
       "      <th>F1 Score</th>\n",
       "    </tr>\n",
       "  </thead>\n",
       "  <tbody>\n",
       "    <tr>\n",
       "      <th>0</th>\n",
       "      <td>Decision Tree</td>\n",
       "      <td>0.559818</td>\n",
       "      <td>0.546219</td>\n",
       "    </tr>\n",
       "    <tr>\n",
       "      <th>1</th>\n",
       "      <td>Random Forest</td>\n",
       "      <td>0.564171</td>\n",
       "      <td>0.553868</td>\n",
       "    </tr>\n",
       "    <tr>\n",
       "      <th>2</th>\n",
       "      <td>Logistic Regression</td>\n",
       "      <td>0.560972</td>\n",
       "      <td>0.553825</td>\n",
       "    </tr>\n",
       "  </tbody>\n",
       "</table>\n",
       "</div>"
      ],
      "text/plain": [
       "                 Model  Accuracy  F1 Score\n",
       "0        Decision Tree  0.559818  0.546219\n",
       "1        Random Forest  0.564171  0.553868\n",
       "2  Logistic Regression  0.560972  0.553825"
      ]
     },
     "execution_count": 71,
     "metadata": {},
     "output_type": "execute_result"
    }
   ],
   "source": [
    "output = pd.DataFrame()\n",
    "Model = ['Decision Tree','Random Forest', 'Logistic Regression']\n",
    "Accuracy = [accuracy_dt, accuracy_rf, accuracy_lr]\n",
    "F1_Score = [f1_dt, f1_rf, f1_lr]\n",
    "output['Model'] = Model\n",
    "output['Accuracy'] = Accuracy\n",
    "output['F1 Score'] = F1_Score\n",
    "output"
   ]
  },
  {
   "cell_type": "code",
   "execution_count": 72,
   "metadata": {},
   "outputs": [],
   "source": [
    "# save results\n",
    "output.to_csv('Project_results.csv', index = False)"
   ]
  },
  {
   "cell_type": "code",
   "execution_count": null,
   "metadata": {},
   "outputs": [],
   "source": []
  }
 ],
 "metadata": {
  "kernelspec": {
   "display_name": "Python 3",
   "language": "python",
   "name": "python3"
  },
  "language_info": {
   "codemirror_mode": {
    "name": "ipython",
    "version": 3
   },
   "file_extension": ".py",
   "mimetype": "text/x-python",
   "name": "python",
   "nbconvert_exporter": "python",
   "pygments_lexer": "ipython3",
   "version": "3.7.6"
  }
 },
 "nbformat": 4,
 "nbformat_minor": 4
}
